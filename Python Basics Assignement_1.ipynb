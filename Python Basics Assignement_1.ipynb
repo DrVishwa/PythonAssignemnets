{
 "cells": [
  {
   "cell_type": "markdown",
   "id": "5e6bc31a",
   "metadata": {},
   "source": [
    "## Python Basics Assignment 1"
   ]
  },
  {
   "cell_type": "raw",
   "id": "027c4dff",
   "metadata": {},
   "source": [
    "Question 1. In the below elements which of them are values or an expression? eg:- values can be\n",
    "integer or string and expressions will be mathematical operators.\n",
    "*\n",
    "\"hello\"\n",
    "-87.8\n",
    "-\n",
    "/\n",
    "+\n",
    "6\n",
    "\n",
    "Asnwer: Value 'hello', -87.8, 6\n",
    "        Expressions: *,-,/,+"
   ]
  },
  {
   "cell_type": "raw",
   "id": "daa47e52",
   "metadata": {},
   "source": [
    "Question 2: What is the difference between string and variable?\n",
    "Answer: String is a data type and vaibales are used to store data"
   ]
  },
  {
   "cell_type": "raw",
   "id": "76b0b4ab",
   "metadata": {},
   "source": [
    "Question 3: Describe three different data types.\n",
    "Answer : Integer, string, float"
   ]
  },
  {
   "cell_type": "raw",
   "id": "ec5a5f1e",
   "metadata": {},
   "source": [
    "Question 4. What is an expression made up of? What do all expressions do?\n",
    "Answer: Is is combination of operator and operands. They are use to perform some function\n"
   ]
  },
  {
   "cell_type": "raw",
   "id": "4d061e5f",
   "metadata": {},
   "source": [
    "Question 5. This assignment statements, like spam = 10. What is the difference between an\n",
    "expression and a statement?\n",
    "Answer: Statement that python can execute, and Expression that return a value"
   ]
  },
  {
   "cell_type": "code",
   "execution_count": null,
   "id": "ab77f258",
   "metadata": {},
   "outputs": [],
   "source": [
    "6. After running the following code, what does the variable bacon contain?\n",
    "bacon = 22\n",
    "bacon + 1\n",
    "Answer: 22\n",
    "\n"
   ]
  },
  {
   "cell_type": "raw",
   "id": "a0b7e437",
   "metadata": {},
   "source": [
    "7. What should the values of the following two terms be?\n",
    "'spam' + 'spamspam'\n",
    "'spam' * 3\n",
    "Answer: 'spamspamspam'\n",
    "        'spamspamspam'"
   ]
  },
  {
   "cell_type": "raw",
   "id": "ea88a554",
   "metadata": {},
   "source": [
    "8. Why is eggs a valid variable name while 100 is invalid?\n",
    "Answer: 100 is integer\n",
    "\n"
   ]
  },
  {
   "cell_type": "raw",
   "id": "be71ab19",
   "metadata": {},
   "source": [
    "9. What three functions can be used to get the integer, floating-point number, or string\n",
    "version of a value?\n",
    "Answer: int(), float(), str()"
   ]
  },
  {
   "cell_type": "raw",
   "id": "45301b5b",
   "metadata": {},
   "source": [
    "10. Why does this expression cause an error? How can you fix it?\n",
    "'I have eaten' + 99 + 'burritos.'\n",
    "Answer: String and integer can not be concatenadted. We can convert 99 to string"
   ]
  }
 ],
 "metadata": {
  "kernelspec": {
   "display_name": "Python 3 (ipykernel)",
   "language": "python",
   "name": "python3"
  },
  "language_info": {
   "codemirror_mode": {
    "name": "ipython",
    "version": 3
   },
   "file_extension": ".py",
   "mimetype": "text/x-python",
   "name": "python",
   "nbconvert_exporter": "python",
   "pygments_lexer": "ipython3",
   "version": "3.9.13"
  }
 },
 "nbformat": 4,
 "nbformat_minor": 5
}
