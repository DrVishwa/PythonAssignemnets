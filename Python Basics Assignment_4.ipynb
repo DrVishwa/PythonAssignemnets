{
 "cells": [
  {
   "cell_type": "code",
   "execution_count": null,
   "id": "ae77a795",
   "metadata": {},
   "outputs": [],
   "source": [
    "#1. What exactly is []?#\n",
    "Answer: Use to define list literals\n"
   ]
  },
  {
   "cell_type": "code",
   "execution_count": 5,
   "id": "179bcc84",
   "metadata": {},
   "outputs": [
    {
     "data": {
      "text/plain": [
       "['a', 'b', 'hello', 'c', 'd']"
      ]
     },
     "execution_count": 5,
     "metadata": {},
     "output_type": "execute_result"
    }
   ],
   "source": [
    "#2. In a list of values stored in a variable called spam, how would you assign the value 'hello' as the third value? (Assume [2, 4, 6, 8, 10] are in spam.)\n",
    "#Let's pretend the spam includes the list ['a', 'b', 'c', 'd'] for the next three queries.#\n",
    "#Answer:\n",
    "spam=['a','b','c','d']\n",
    "spam.insert(2,'hello')\n",
    "spam\n"
   ]
  },
  {
   "cell_type": "code",
   "execution_count": 6,
   "id": "90a4b311",
   "metadata": {},
   "outputs": [
    {
     "data": {
      "text/plain": [
       "'c'"
      ]
     },
     "execution_count": 6,
     "metadata": {},
     "output_type": "execute_result"
    }
   ],
   "source": [
    "#3. What is the value of spam[int(int('3' * 2) / 11)]?\n",
    "\n",
    "Answer: 'c'"
   ]
  },
  {
   "cell_type": "code",
   "execution_count": 7,
   "id": "ab203f80",
   "metadata": {},
   "outputs": [
    {
     "data": {
      "text/plain": [
       "'d'"
      ]
     },
     "execution_count": 7,
     "metadata": {},
     "output_type": "execute_result"
    }
   ],
   "source": [
    "#4. What is the value of spam[-1]?\n",
    "#Answer:'d'\n",
    "spam[-1]"
   ]
  },
  {
   "cell_type": "code",
   "execution_count": 8,
   "id": "df8d6133",
   "metadata": {},
   "outputs": [
    {
     "data": {
      "text/plain": [
       "['a', 'b']"
      ]
     },
     "execution_count": 8,
     "metadata": {},
     "output_type": "execute_result"
    }
   ],
   "source": [
    "#5. What is the value of spam[:2]?\n",
    "#Let's pretend bacon has the list [3.14, 'cat,' 11, 'cat,' True] for the next three questions.\n",
    "#Answer:['a','b'] \n",
    "spam[:2]"
   ]
  },
  {
   "cell_type": "code",
   "execution_count": 15,
   "id": "2aaa25da",
   "metadata": {},
   "outputs": [
    {
     "data": {
      "text/plain": [
       "1"
      ]
     },
     "execution_count": 15,
     "metadata": {},
     "output_type": "execute_result"
    }
   ],
   "source": [
    "#6. What is the value of bacon.index('cat')?\n",
    "#Answer: 1\n",
    "bacon=[3.14, 'cat', 11, 'cat', True]\n",
    "bacon.index('cat')\n"
   ]
  },
  {
   "cell_type": "code",
   "execution_count": 14,
   "id": "9aed86bb",
   "metadata": {},
   "outputs": [
    {
     "data": {
      "text/plain": [
       "[3.14, 'cat', 11, 'cat', True, 99, 99]"
      ]
     },
     "execution_count": 14,
     "metadata": {},
     "output_type": "execute_result"
    }
   ],
   "source": [
    "#7. How does bacon.append(99) change the look of the list value in bacon?\n",
    "#Answer it will add 99 to the list\n",
    "\n",
    "\n"
   ]
  },
  {
   "cell_type": "code",
   "execution_count": null,
   "id": "ba07f854",
   "metadata": {},
   "outputs": [],
   "source": [
    "#8. How does bacon.remove('cat') change the look of the list in bacon?\n",
    "#Answer: It wll remove cat from the list\n"
   ]
  },
  {
   "cell_type": "code",
   "execution_count": null,
   "id": "c09a91a4",
   "metadata": {},
   "outputs": [],
   "source": [
    "#9. What are the list concatenation and list replication operators?\n",
    "# for concatenation we can use + operator\n",
    "#for replication operator can use copy operator shallow copy\n"
   ]
  },
  {
   "cell_type": "code",
   "execution_count": null,
   "id": "a7f94ae4",
   "metadata": {},
   "outputs": [],
   "source": [
    "10. What is difference between the list methods append() and insert()?\n",
    "Answer:append add element at the last location and we can use insert method to provide location using index\n"
   ]
  },
  {
   "cell_type": "code",
   "execution_count": null,
   "id": "ddd005a8",
   "metadata": {},
   "outputs": [],
   "source": [
    "11. What are the two methods for removing items from a list?\n",
    "Answer:By using remove and pop\n"
   ]
  },
  {
   "cell_type": "code",
   "execution_count": null,
   "id": "c6f05554",
   "metadata": {},
   "outputs": [],
   "source": [
    "12. Describe how list values and string values are identical.\n",
    "Answer: because string is also a list of characters"
   ]
  },
  {
   "cell_type": "code",
   "execution_count": null,
   "id": "548fb0d5",
   "metadata": {},
   "outputs": [],
   "source": [
    "13. What's the difference between tuples and lists?\n",
    "We cannot add elemets(immutable) to the tupples but we can edit list(mutable)"
   ]
  },
  {
   "cell_type": "code",
   "execution_count": 18,
   "id": "0726ea31",
   "metadata": {},
   "outputs": [],
   "source": [
    "#14. How do you type a tuple value that only contains the integer 42?\n",
    "Answer: mytuple=(\"42\")\n"
   ]
  },
  {
   "cell_type": "code",
   "execution_count": null,
   "id": "da27d9f4",
   "metadata": {},
   "outputs": [],
   "source": [
    "15. How do you get a list value's tuple form? How do you get a tuple value's list form?\n",
    "Answer: can use tuple1= tuple(list_1), and list1=list(mytuple)"
   ]
  },
  {
   "cell_type": "code",
   "execution_count": null,
   "id": "0e478f92",
   "metadata": {},
   "outputs": [],
   "source": [
    "16. Variables that \"contain\" list values are not necessarily lists themselves. Instead, what do they contain?\n",
    "Answer: They may contain reference to the list values"
   ]
  },
  {
   "cell_type": "code",
   "execution_count": null,
   "id": "958fd5ea",
   "metadata": {},
   "outputs": [],
   "source": [
    "17. How do you distinguish between copy.copy() and copy.deepcopy()?\n",
    "Answer: copyt.copy is shallow copyt, only provideing link the the origirnal copy and copy.deepcopy actually creating a copy"
   ]
  }
 ],
 "metadata": {
  "kernelspec": {
   "display_name": "Python 3 (ipykernel)",
   "language": "python",
   "name": "python3"
  },
  "language_info": {
   "codemirror_mode": {
    "name": "ipython",
    "version": 3
   },
   "file_extension": ".py",
   "mimetype": "text/x-python",
   "name": "python",
   "nbconvert_exporter": "python",
   "pygments_lexer": "ipython3",
   "version": "3.9.13"
  }
 },
 "nbformat": 4,
 "nbformat_minor": 5
}
