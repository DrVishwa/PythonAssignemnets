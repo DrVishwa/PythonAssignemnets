{
 "cells": [
  {
   "cell_type": "markdown",
   "id": "a58d5fee",
   "metadata": {},
   "source": [
    "# Python Basics Assignement 3"
   ]
  },
  {
   "cell_type": "code",
   "execution_count": null,
   "id": "225fcafc",
   "metadata": {},
   "outputs": [],
   "source": [
    "1. Why are functions advantageous to have in your programs?\n",
    "Answer: Helps in breaking up code into chunks and provide reusability\n"
   ]
  },
  {
   "cell_type": "code",
   "execution_count": null,
   "id": "d6cff639",
   "metadata": {},
   "outputs": [],
   "source": [
    "2. When does the code in a function run: when it's specified or when it's called?\n",
    "Answer: When it is callled\n"
   ]
  },
  {
   "cell_type": "code",
   "execution_count": null,
   "id": "84e6931f",
   "metadata": {},
   "outputs": [],
   "source": [
    "3. What statement creates a function?\n",
    "Answer: using def keyword\n"
   ]
  },
  {
   "cell_type": "code",
   "execution_count": null,
   "id": "69b4544d",
   "metadata": {},
   "outputs": [],
   "source": [
    "4. What is the difference between a function and a function call?\n",
    "Answer: Fucntion chunk of code\n",
    "        Functioncall , to call a function for passing control to a function\n",
    "\n"
   ]
  },
  {
   "cell_type": "code",
   "execution_count": null,
   "id": "c4a55557",
   "metadata": {},
   "outputs": [],
   "source": [
    "5. How many global scopes are there in a Python program? How many local scopes?\n",
    "Answer: global scope, local scope, enclosed scope, and built-in scope"
   ]
  },
  {
   "cell_type": "code",
   "execution_count": null,
   "id": "0e5db463",
   "metadata": {},
   "outputs": [],
   "source": [
    "6. What happens to variables in a local scope when the function call returns?\n",
    "Answer: lifetime expires and memory relieved\n"
   ]
  },
  {
   "cell_type": "code",
   "execution_count": null,
   "id": "c53d42a6",
   "metadata": {},
   "outputs": [],
   "source": [
    "7. What is the concept of a return value? Is it possible to have a return value in an expression?\n",
    "Answer: yes"
   ]
  },
  {
   "cell_type": "code",
   "execution_count": null,
   "id": "9ebb7f4b",
   "metadata": {},
   "outputs": [],
   "source": [
    "8. If a function does not have a return statement, what is the return value of a call to that function?\n",
    "Answer : none\n"
   ]
  },
  {
   "cell_type": "code",
   "execution_count": null,
   "id": "85deafa0",
   "metadata": {},
   "outputs": [],
   "source": [
    "9. How do you make a function variable refer to the global variable?\n",
    "Answer: by using keyword global"
   ]
  },
  {
   "cell_type": "code",
   "execution_count": null,
   "id": "1d2c3270",
   "metadata": {},
   "outputs": [],
   "source": [
    "10. What is the data type of None?\n",
    "Answer: None is data types in its own"
   ]
  },
  {
   "cell_type": "code",
   "execution_count": null,
   "id": "4588c65d",
   "metadata": {},
   "outputs": [],
   "source": [
    "11. What does the sentence import areallyourpetsnamederic do?\n",
    "Answer: It will import module areallyourpetsnamederic"
   ]
  },
  {
   "cell_type": "code",
   "execution_count": null,
   "id": "34c26697",
   "metadata": {},
   "outputs": [],
   "source": [
    "12. If you had a bacon() feature in a spam module, what would you call it after importing spam?\n",
    "Answer: spam.bacon()\n"
   ]
  },
  {
   "cell_type": "code",
   "execution_count": null,
   "id": "922091ea",
   "metadata": {},
   "outputs": [],
   "source": [
    "13. What can you do to save a programme from crashing if it encounters an error?\n",
    "Answer: Can do exceptional handling"
   ]
  },
  {
   "cell_type": "code",
   "execution_count": null,
   "id": "c1426943",
   "metadata": {},
   "outputs": [],
   "source": [
    "14. What is the purpose of the try clause? What is the purpose of the except clause?\n",
    "Answer: The try block lets you test a block of code for errors. The except block lets you handle the error. "
   ]
  }
 ],
 "metadata": {
  "kernelspec": {
   "display_name": "Python 3 (ipykernel)",
   "language": "python",
   "name": "python3"
  },
  "language_info": {
   "codemirror_mode": {
    "name": "ipython",
    "version": 3
   },
   "file_extension": ".py",
   "mimetype": "text/x-python",
   "name": "python",
   "nbconvert_exporter": "python",
   "pygments_lexer": "ipython3",
   "version": "3.9.13"
  }
 },
 "nbformat": 4,
 "nbformat_minor": 5
}
