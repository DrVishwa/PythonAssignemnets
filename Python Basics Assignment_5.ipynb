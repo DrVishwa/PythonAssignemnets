{
 "cells": [
  {
   "cell_type": "markdown",
   "id": "2d3f0567",
   "metadata": {},
   "source": [
    "## 1. What does an empty dictionary&#39;s code look like?"
   ]
  },
  {
   "cell_type": "code",
   "execution_count": 1,
   "id": "dbf04e5c",
   "metadata": {},
   "outputs": [],
   "source": [
    "my_dictionary={}"
   ]
  },
  {
   "cell_type": "code",
   "execution_count": 2,
   "id": "940ae1e3",
   "metadata": {},
   "outputs": [
    {
     "data": {
      "text/plain": [
       "dict"
      ]
     },
     "execution_count": 2,
     "metadata": {},
     "output_type": "execute_result"
    }
   ],
   "source": [
    "type(my_dictionary)"
   ]
  },
  {
   "cell_type": "markdown",
   "id": "ffbace5a",
   "metadata": {},
   "source": [
    "## 2. What is the value of a dictionary value with the key 'foo' and the value 42?\n"
   ]
  },
  {
   "cell_type": "code",
   "execution_count": 6,
   "id": "299e22a1",
   "metadata": {},
   "outputs": [],
   "source": [
    "# {'foo':42}"
   ]
  },
  {
   "cell_type": "markdown",
   "id": "c89c2c36",
   "metadata": {},
   "source": [
    "## 3. What is the most significant distinction between a dictionary and a list?"
   ]
  },
  {
   "cell_type": "code",
   "execution_count": 8,
   "id": "29d55ffc",
   "metadata": {},
   "outputs": [],
   "source": [
    "# A list refers to a collection of various index value pairs. \n",
    "# A dictionary refers to a hashed structure of various pairs of keys and values"
   ]
  },
  {
   "cell_type": "markdown",
   "id": "1e309305",
   "metadata": {},
   "source": [
    "## 4. What happens if you try to access spam['foo'] if spam is {'bar': 100}?"
   ]
  },
  {
   "cell_type": "code",
   "execution_count": 9,
   "id": "b40f76f6",
   "metadata": {},
   "outputs": [],
   "source": [
    "## It will return error"
   ]
  },
  {
   "cell_type": "markdown",
   "id": "31401ab1",
   "metadata": {},
   "source": [
    "## 5. If a dictionary is stored in spam, what is the difference between the expressions 'cat' in spam and 'cat' in spam.keys()?"
   ]
  },
  {
   "cell_type": "code",
   "execution_count": 10,
   "id": "c6ff9fde",
   "metadata": {},
   "outputs": [],
   "source": [
    "# There is no difference. The in operator checks whether a value exists as a key in the dictionary. 'cat' in spam checks whether there is a 'cat' key in the dictionary, \n",
    "# while 'cat' in spam. values() checks whether there is a value 'cat' for one of the keys in spam ."
   ]
  },
  {
   "cell_type": "markdown",
   "id": "80d9791f",
   "metadata": {},
   "source": [
    "## 6. If a dictionary is stored in spam, what is the difference between the expressions 'cat'; in spam and 'cat' in spam.values()?"
   ]
  },
  {
   "cell_type": "code",
   "execution_count": null,
   "id": "c6c92aa9",
   "metadata": {},
   "outputs": [],
   "source": [
    "# There is no difference. The in operator checks whether a value exists as a key in the dictionary. 'cat' in spam checks whether there is a 'cat' key in the dictionary, \n",
    "# while 'cat' in spam. values() checks whether there is a value 'cat' for one of the keys in spam ."
   ]
  },
  {
   "cell_type": "markdown",
   "id": "dd19f017",
   "metadata": {},
   "source": [
    "## 7. What is a shortcut for the following code?\n",
    "## if 'color' not in spam:\n",
    "## spam['color'] = 'black'"
   ]
  },
  {
   "cell_type": "code",
   "execution_count": 11,
   "id": "1603ac44",
   "metadata": {},
   "outputs": [],
   "source": [
    "# spam.setdefault('color','black')"
   ]
  },
  {
   "cell_type": "markdown",
   "id": "d958e372",
   "metadata": {},
   "source": [
    "##  8. What module and function can be used to “pretty print” dictionary values?"
   ]
  },
  {
   "cell_type": "code",
   "execution_count": 12,
   "id": "4e36c353",
   "metadata": {},
   "outputs": [],
   "source": [
    "## The module is pprint.\n",
    "## The functions are pprint.pprint() and pprint.pformat().\n"
   ]
  },
  {
   "cell_type": "code",
   "execution_count": null,
   "id": "fb9bdd0c",
   "metadata": {},
   "outputs": [],
   "source": []
  }
 ],
 "metadata": {
  "kernelspec": {
   "display_name": "Python 3 (ipykernel)",
   "language": "python",
   "name": "python3"
  },
  "language_info": {
   "codemirror_mode": {
    "name": "ipython",
    "version": 3
   },
   "file_extension": ".py",
   "mimetype": "text/x-python",
   "name": "python",
   "nbconvert_exporter": "python",
   "pygments_lexer": "ipython3",
   "version": "3.9.13"
  }
 },
 "nbformat": 4,
 "nbformat_minor": 5
}
