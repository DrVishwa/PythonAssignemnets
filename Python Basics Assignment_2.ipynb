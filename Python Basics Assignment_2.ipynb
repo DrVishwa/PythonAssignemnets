{
 "cells": [
  {
   "cell_type": "markdown",
   "id": "01852e16",
   "metadata": {},
   "source": [
    "# Python Basics Assignement 2"
   ]
  },
  {
   "cell_type": "code",
   "execution_count": null,
   "id": "66ce5a2d",
   "metadata": {},
   "outputs": [],
   "source": [
    "1.What are the two values of the Boolean data type? How do you write them?\n",
    "Answer: True and False\n"
   ]
  },
  {
   "cell_type": "code",
   "execution_count": null,
   "id": "354d00df",
   "metadata": {},
   "outputs": [],
   "source": [
    "2. What are the three different types of Boolean operators?\n",
    "Answer: AND, OR, NOT\n"
   ]
  },
  {
   "cell_type": "code",
   "execution_count": null,
   "id": "fe54b11e",
   "metadata": {},
   "outputs": [],
   "source": [
    "3. Make a list of each Boolean operator's truth tables (i.e. every possible combination of Boolean\n",
    "values for the operator and what it evaluate ).\n",
    "Answer: AND\n",
    "    A  B  output\n",
    "    1  1  1\n",
    "    1  0  0\n",
    "    0  1  0\n",
    "    0  0  0\n",
    "    \n",
    "    OR\n",
    "    A B output\n",
    "    0 0 0\n",
    "    0 1 1\n",
    "    1 0 1\n",
    "    1 1 1\n",
    "    \n",
    "    NOT\n",
    "    A Output\n",
    "    0 1\n",
    "    0 1\n"
   ]
  },
  {
   "cell_type": "code",
   "execution_count": null,
   "id": "c3cfde87",
   "metadata": {},
   "outputs": [],
   "source": [
    "4. What are the values of the following expressions?\n",
    "a. (5 > 4) and (3 == 5)\n",
    "FALSE\n",
    "\n",
    "b. not (5 > 4)\n",
    "FLASE\n",
    "\n",
    "c. (5 > 4) or (3 == 5)\n",
    "TRUE\n",
    "\n",
    "d. not ((5 > 4) or (3 == 5))\n",
    "FALSE\n",
    "\n",
    "e. (True and True) and (True == False)\n",
    "FLASE\n",
    "\n",
    "f. (not False) or (not True)\n",
    "TRUE"
   ]
  },
  {
   "cell_type": "code",
   "execution_count": null,
   "id": "d3f55e38",
   "metadata": {},
   "outputs": [],
   "source": [
    "5. What are the six comparison operators?\n",
    "==,<,>,<=,>=\n"
   ]
  },
  {
   "cell_type": "code",
   "execution_count": null,
   "id": "95396d2f",
   "metadata": {},
   "outputs": [],
   "source": [
    "6. How do you tell the difference between the equal to and assignment operators?Describe a\n",
    "condition and when you would use one.\n",
    "Answer: To comapre we can use ==, like a==b\n",
    "        for assignement we can use a=6\n"
   ]
  },
  {
   "cell_type": "code",
   "execution_count": null,
   "id": "fda94a30",
   "metadata": {},
   "outputs": [],
   "source": [
    "7. Identify the three blocks in this code:\n",
    "spam = 0\n",
    "if spam == 10:\n",
    "    print('eggs')\n",
    "\n",
    "if spam > 5:\n",
    "    print('bacon')\n",
    "\n",
    "else:\n",
    "    print('ham')\n",
    "    print('spam')\n",
    "    print('spam')\n",
    "\n",
    "Answer: \n"
   ]
  },
  {
   "cell_type": "code",
   "execution_count": null,
   "id": "f45a54b3",
   "metadata": {},
   "outputs": [],
   "source": [
    "#8. Write code that prints Hello if 1 is stored in spam, prints Howdy if 2 is stored in spam, and prints\n",
    "#Greetings! if anything else is stored in spam.#\n",
    "spam=1\n",
    "if spam==1:\n",
    "    print('Hello')\n",
    "elif spam==2:\n",
    "    print('Howdy')\n",
    "else:\n",
    "    print('Greetings')"
   ]
  },
  {
   "cell_type": "code",
   "execution_count": null,
   "id": "707ca26f",
   "metadata": {},
   "outputs": [],
   "source": [
    "9.If your programme is stuck in an endless loop, what keys you’ll press?\n",
    "Answer: CTRL+C\n",
    "\n"
   ]
  },
  {
   "cell_type": "code",
   "execution_count": null,
   "id": "a7e18edd",
   "metadata": {},
   "outputs": [],
   "source": [
    "10. How can you tell the difference between break and continue?\n",
    "Answer: Break: to get out of the loop\n",
    "        Continue: go for next iteration\n"
   ]
  },
  {
   "cell_type": "code",
   "execution_count": null,
   "id": "52226afc",
   "metadata": {},
   "outputs": [],
   "source": [
    "11. In a for loop, what is the difference between range(10), range(0, 10), and range(0, 10, 1)?\n",
    "Answer: All the same\n"
   ]
  },
  {
   "cell_type": "code",
   "execution_count": null,
   "id": "8cd238fb",
   "metadata": {},
   "outputs": [],
   "source": [
    "#12. Write a short program that prints the numbers 1 to 10 using a for loop. Then write an equivalent program that prints the numbers 1 to 10 using a while loop.\n",
    "#Answer: \n",
    "#using for loop\n",
    "for i in range(1,11):\n",
    "        print(i)\n",
    "\n",
    "#using While Loop\n",
    "i=1\n",
    "while(i<=10):\n",
    "    print(i)\n",
    "    i=i+1"
   ]
  },
  {
   "cell_type": "code",
   "execution_count": null,
   "id": "5cbd112b",
   "metadata": {},
   "outputs": [],
   "source": [
    "13. If you had a function named bacon() inside a module named spam, how would you call it after\n",
    "importing spam?\n",
    "Answer:\n",
    "    spam.bacon()"
   ]
  }
 ],
 "metadata": {
  "kernelspec": {
   "display_name": "Python 3 (ipykernel)",
   "language": "python",
   "name": "python3"
  },
  "language_info": {
   "codemirror_mode": {
    "name": "ipython",
    "version": 3
   },
   "file_extension": ".py",
   "mimetype": "text/x-python",
   "name": "python",
   "nbconvert_exporter": "python",
   "pygments_lexer": "ipython3",
   "version": "3.9.13"
  }
 },
 "nbformat": 4,
 "nbformat_minor": 5
}
